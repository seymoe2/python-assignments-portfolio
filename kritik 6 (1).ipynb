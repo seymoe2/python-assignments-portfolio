{
 "cells": [
  {
   "cell_type": "code",
   "execution_count": 2,
   "id": "2f27d051-61bb-4e7f-a6e2-c2b57b3049a7",
   "metadata": {},
   "outputs": [
    {
     "name": "stdout",
     "output_type": "stream",
     "text": [
      "0.894135897239592\n"
     ]
    }
   ],
   "source": [
    "import numpy as np\n",
    "#function\n",
    "def normal_density(mean, variance, x):\n",
    "    return 1/variance/np.sqrt(2*np.pi) * np.exp(-(x-mean)**2/2/variance**2)\n",
    "\n",
    "\n",
    "def integration(a,b,f):\n",
    "    area = 0\n",
    "    n = 1000\n",
    "    step = (b-a)/n\n",
    "    for i in range(n):\n",
    "        area+=step*f(a+step*i)\n",
    "        \n",
    "    return area\n",
    "\n",
    "def integration_nd(mean, variance, a,b):\n",
    "    def f(x): # Normal density function\n",
    "        return normal_density(mean,variance,x)  \n",
    "        # Integrating over the range [a, b]      \n",
    "    \n",
    "    return integration(a,b,f)\n",
    "\n",
    "print(integration_nd(171,7.1,162,190)) "
   ]
  },
  {
   "cell_type": "code",
   "execution_count": 4,
   "id": "727d5e33-ce3a-42d2-96fe-424b20b7d255",
   "metadata": {},
   "outputs": [
    {
     "name": "stdout",
     "output_type": "stream",
     "text": [
      "-6.913023800741906e-17\n"
     ]
    }
   ],
   "source": [
    "#Question 4a \n",
    "\n",
    "#function to compute E[X]\n",
    "def integration_expec(mean, variance, a, b):\n",
    "    def f(x):\n",
    "        return x*normal_density(mean, variance, x)\n",
    "    \n",
    "    return integration(a, b, f)\n",
    "mean = 0  \n",
    "variance = 1 \n",
    "expected_value = integration_expec(mean, variance, -10, 10)\n",
    "print(expected_value)"
   ]
  },
  {
   "cell_type": "code",
   "execution_count": null,
   "id": "920f550e-5479-4740-97b4-641f6b93651d",
   "metadata": {},
   "outputs": [],
   "source": [
    "'''\n",
    "THe expected value is extremely small. the value printed is\n",
    "times ten to the NEGATIVE 17\n",
    "'''"
   ]
  },
  {
   "cell_type": "code",
   "execution_count": 19,
   "id": "962af322-87e0-48d0-9fa3-ff45007db975",
   "metadata": {},
   "outputs": [
    {
     "name": "stdout",
     "output_type": "stream",
     "text": [
      "49.974499703973464\n"
     ]
    }
   ],
   "source": [
    "# Question 4b\n",
    "\n",
    "def exponential_density(lam, x):\n",
    "    if x >= 0:\n",
    "        return lam * np.exp(-lam * x)\n",
    "    else:\n",
    "        return 0\n",
    "\n",
    "def integration_e_e(lam, a, b):\n",
    "    def f(x):\n",
    "        return x * exponential_density(lam, x)\n",
    "    \n",
    "    return integration(a, b, f)\n",
    "\n",
    "lam = 1 / 50  \n",
    "\n",
    "expected_value_exponential = integration_e_e(lam, 0, 500)\n",
    "print(expected_value_exponential)\n",
    "\n",
    "#the output close to 1/lam value (50)"
   ]
  },
  {
   "cell_type": "code",
   "execution_count": null,
   "id": "5d153933-bffb-4ea2-a338-165d1a11eb3b",
   "metadata": {},
   "outputs": [],
   "source": [
    "The output is essentially the given 1/lam value for the ques"
   ]
  },
  {
   "cell_type": "code",
   "execution_count": 3,
   "id": "7eff0165-9ff7-49cd-82e8-dccac1c46447",
   "metadata": {},
   "outputs": [
    {
     "name": "stdout",
     "output_type": "stream",
     "text": [
      "63267.9332371334\n"
     ]
    }
   ],
   "source": [
    "#Question 4c\n",
    "\n",
    "# function\n",
    "def expected_x_sq(mean, variance, a, b):\n",
    "    def f(x):\n",
    "        return x**2 * normal_density(mean, variance, x) \n",
    "    return integration(a, b, f)\n",
    "\n",
    "mean = 171\n",
    "variance = 7.1\n",
    "a = 162  \n",
    "b = 190  \n",
    "\n",
    "E_X_sq = expected_x_sq(mean, variance, a, b)\n",
    "\n",
    "# WHATS THE DOSAGE????????\n",
    "expected_dosage = 2.38 * E_X_sq\n",
    "\n",
    "print(expected_dosage)\n"
   ]
  },
  {
   "cell_type": "code",
   "execution_count": null,
   "id": "d353fa3e-e473-43b3-95a3-e96250c98227",
   "metadata": {},
   "outputs": [],
   "source": []
  }
 ],
 "metadata": {
  "kernelspec": {
   "display_name": "Python 3 (ipykernel)",
   "language": "python",
   "name": "python3"
  },
  "language_info": {
   "codemirror_mode": {
    "name": "ipython",
    "version": 3
   },
   "file_extension": ".py",
   "mimetype": "text/x-python",
   "name": "python",
   "nbconvert_exporter": "python",
   "pygments_lexer": "ipython3",
   "version": "3.12.8"
  }
 },
 "nbformat": 4,
 "nbformat_minor": 5
}
