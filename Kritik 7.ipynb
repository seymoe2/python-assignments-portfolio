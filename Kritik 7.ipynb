{
 "cells": [
  {
   "cell_type": "code",
   "execution_count": 3,
   "id": "6db1c707-fa4a-4ccc-a94e-05a8906ab0df",
   "metadata": {},
   "outputs": [
    {
     "name": "stdout",
     "output_type": "stream",
     "text": [
      "False\n"
     ]
    }
   ],
   "source": [
    "import numpy as np\n",
    "from scipy.special import gamma\n",
    "scores = [92.64,79.00,84.79,97.41,93.68,65.23,84.50,73.49,73.97,79.11]\n",
    "\n",
    "total = 0\n",
    "for i in scores: \n",
    "    total += i \n",
    "mean = total / len(scores)\n",
    "\n",
    "value= 0\n",
    "for i in scores: \n",
    "    value += (mean-i)**2\n",
    "std_dev= (value*(1/(len(scores)-1)))**(0.5)\n",
    "\n",
    "def t_distribution_pdf(x, nu):\n",
    "    \"\"\"\n",
    "    Compute the probability density of the t-distribution\n",
    "    at a given point x with nu degrees of freedom.\n",
    "    Parameters:\n",
    "    x (float): The point at which to evaluate the density.\n",
    "    nu (int): The degrees of freedom of the t-distribution.\n",
    "    Returns:\n",
    "    density (float): The probability density at point x for\n",
    "    the t-distribution with nu degrees of freedom.\n",
    "    \"\"\"\n",
    "    coeff = gamma((nu + 1) / 2) / (np.sqrt(nu * np.pi) * gamma(nu / 2))\n",
    "    density = coeff * (1 + x**2 / nu) ** (-0.5 * (nu + 1))\n",
    "    return density\n",
    "\n",
    "def find_t_star(prob, nu, x_start=0, x_end=20, num_points=10000):\n",
    "    \"\"\"\n",
    "    Find the t-value t* for a given cumulative probability\n",
    "    and degrees of freedom.\n",
    "    Parameters:\n",
    "    prob (float): The cumulative probability (between 0 and 1).\n",
    "    nu (int): The degrees of freedom of the t-distribution.\n",
    "    x_start (float): The start point for numerical integration.\n",
    "    x_end (float): The end point for numerical integration.\n",
    "    20 will almost always be big enough.\n",
    "    num_points (int): The number of points to use in\n",
    "    the numerical integration.\n",
    "    Returns:\n",
    "    float: The t-value t* such that the area between [-t*, t*]\n",
    "    equals the given probability.\n",
    "    \"\"\"\n",
    "    # Define the x values\n",
    "    x = np.linspace(x_start, x_end, num_points)\n",
    "    # Apply the density function to the x values\n",
    "    y = t_distribution_pdf(x, nu)\n",
    "    # This next line is the integration (exercise: why does this work?)\n",
    "    cdf = np.cumsum(y) * (x[1] - x[0])\n",
    "    # Find the t-value where the cumulative probability reaches half of the required probability\n",
    "    target_half_prob = prob / 2\n",
    "    index = np.where(cdf >= target_half_prob)[0][0]\n",
    "\n",
    "    return x[index]\n",
    "\n",
    "t_star = find_t_star(0.95,len(scores)-1)\n",
    "t_0 = ((mean-75)/(std_dev/(len(scores)**0.5)))\n",
    "\n",
    "def within(t0, star):\n",
    "    if abs(t0)>star:\n",
    "        return False\n",
    "    else:\n",
    "        return True \n",
    "print(within(t_0,t_star))\n"
   ]
  },
  {
   "cell_type": "code",
   "execution_count": null,
   "id": "be9a8298-b3ae-49e5-b10b-94c0befada7b",
   "metadata": {},
   "outputs": [],
   "source": []
  }
 ],
 "metadata": {
  "kernelspec": {
   "display_name": "Python 3 (ipykernel)",
   "language": "python",
   "name": "python3"
  },
  "language_info": {
   "codemirror_mode": {
    "name": "ipython",
    "version": 3
   },
   "file_extension": ".py",
   "mimetype": "text/x-python",
   "name": "python",
   "nbconvert_exporter": "python",
   "pygments_lexer": "ipython3",
   "version": "3.12.8"
  }
 },
 "nbformat": 4,
 "nbformat_minor": 5
}
