{
 "cells": [
  {
   "cell_type": "code",
   "execution_count": 5,
   "id": "4c54ac92-2d06-4cb0-9b56-4e0961f19cd1",
   "metadata": {},
   "outputs": [
    {
     "name": "stdout",
     "output_type": "stream",
     "text": [
      "0\n",
      "0\n",
      "1.0\n",
      "1.0\n",
      "0\n",
      "0\n"
     ]
    }
   ],
   "source": [
    "# question a\n",
    "import numpy as np\n",
    "def funny(x):\n",
    "    if x <= -1:\n",
    "        return 0\n",
    "    elif x >= 1:\n",
    "        return 0\n",
    "    else:\n",
    "        return np.exp(1-(1/(1-x**(10**250))))\n",
    "\n",
    "print(funny(1.01))\n",
    "print(funny(1))\n",
    "print(funny(0.99999999999))\n",
    "print(funny(-0.9999999999))\n",
    "print(funny(-1))\n",
    "print(funny(-1.01))"
   ]
  },
  {
   "cell_type": "code",
   "execution_count": null,
   "id": "44c9ec5f-6e56-400c-be64-e01d52de1745",
   "metadata": {},
   "outputs": [],
   "source": [
    "# not continuous "
   ]
  },
  {
   "cell_type": "code",
   "execution_count": 11,
   "id": "26ebfd54-f6b2-4869-b521-78135dca0279",
   "metadata": {},
   "outputs": [
    {
     "name": "stdout",
     "output_type": "stream",
     "text": [
      "the root is:0.0000100001\n",
      "the root is:0.8750056251\n",
      "the root is:3.2500000001\n",
      "the root is:5.0000000001\n"
     ]
    }
   ],
   "source": [
    "#Question b\n",
    "import numpy as np\n",
    "#PLEASE BE NICE\n",
    "def roots(f, a, b, tol=1e-10):\n",
    "    if f(a)+f(b)>0:\n",
    "        print(\"roots are inconclusive\")\n",
    "        return None\n",
    "    while (b-a)/2>tol:\n",
    "        midpoint=(a+b)/2\n",
    "        if f(midpoint)==0:\n",
    "            return midpoint\n",
    "        elif f(a)+f(midpoint)<0:\n",
    "            b=midpoint\n",
    "        else:\n",
    "            a=midpoint\n",
    "    return (a+b)/2\n",
    "def g(x):\n",
    "    return np.exp(x)+np.log(x)\n",
    "a=0.00001\n",
    "b=1\n",
    "root= roots(g, a, b)\n",
    "if root is not None:\n",
    "    print(f\"the root is:{root:.10f}\")\n",
    "\n",
    "# new function, this made me cry\n",
    "def f(x):\n",
    "    return np.arctan(x)-x**2\n",
    "a=0.00001\n",
    "b=2\n",
    "root= roots(f, a, b)\n",
    "if root is not None:\n",
    "    print(f\"the root is:{root:.10f}\")\n",
    "#new function, tears are still being shed\n",
    "def h(x):\n",
    "    return np.sin(x)/np.log(x)\n",
    "a=3\n",
    "b=4\n",
    "root= roots(h, a, b)\n",
    "if root is not None:\n",
    "    print(f\"the root is:{root:.10f}\")\n",
    "\n",
    "#new function, cant breath\n",
    "def t(x):\n",
    "    return np.log(np.cos(x))\n",
    "a=5\n",
    "b=7\n",
    "root=roots(t, a, b)\n",
    "if root is not None:\n",
    "    print (f\"the root is:{root:.10f}\")\n",
    "# done, yippell!"
   ]
  },
  {
   "cell_type": "code",
   "execution_count": null,
   "id": "47320aed-8a84-49d3-bfda-36da7af2b780",
   "metadata": {},
   "outputs": [],
   "source": []
  }
 ],
 "metadata": {
  "kernelspec": {
   "display_name": "Python 3 (ipykernel)",
   "language": "python",
   "name": "python3"
  },
  "language_info": {
   "codemirror_mode": {
    "name": "ipython",
    "version": 3
   },
   "file_extension": ".py",
   "mimetype": "text/x-python",
   "name": "python",
   "nbconvert_exporter": "python",
   "pygments_lexer": "ipython3",
   "version": "3.12.8"
  }
 },
 "nbformat": 4,
 "nbformat_minor": 5
}
