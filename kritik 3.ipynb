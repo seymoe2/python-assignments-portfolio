{
 "cells": [
  {
   "cell_type": "code",
   "execution_count": null,
   "id": "acc5c765-57c7-41f6-a252-274436a435c6",
   "metadata": {},
   "outputs": [],
   "source": [
    "import numpy as np\n",
    "#hahah numpy"
   ]
  },
  {
   "cell_type": "code",
   "execution_count": null,
   "id": "60aa6fff-4c0a-4b1a-963f-3f9562c78a9d",
   "metadata": {},
   "outputs": [],
   "source": [
    "def F_derivative(f, c, d=10**-8):\n",
    "    return (f(c+d)-f(c-d))/(2*d) #this is the equation :) \n",
    "def L_approx(f, c, f_derivative_c):\n",
    "    def L(x):\n",
    "        return f(c) + f_derivative_c *(x-c) #Linearization WHATTTTT\n",
    "    return L\n",
    "def findx(f, L, c, E, p=10**-5):\n",
    "    x1, x2 = None, None \n",
    "    x_r, x_s= c-p, c + p \n",
    "#while i do kritik i want to cry\n",
    "    while x1 is None or x2 is None:\n",
    "        if x1 is None and abs(f(x_r)-L(x_r)) >= E:\n",
    "            x1= x_r\n",
    "        if x2 is None and abs(f(x_s)-L(x_s)) >=E:\n",
    "            x2 = x_s\n",
    "\n",
    "        x_r +=p\n",
    "        x_s -=p\n",
    "        if abs (x_r-c)>1e6 or abs (x_s-c)>1e6:\n",
    "            break\n",
    "    return x1, x2\n",
    "\n",
    "def AH(f, c, E): #def that way b/c i feel that way\n",
    "    f_derivative_c= F_derivative(f, c)\n",
    "    L=L_approx(f, c, f_derivative_c)\n",
    "    return findx(f, L, c, E)\n",
    "def h(x):\n",
    "    return x**2\n",
    "\n",
    "c=1\n",
    "E= 0.1\n",
    "\n",
    "x1, x2= AH(h, c, E)\n",
    "#im screaming internally\n",
    "print(x1, x2) \n"
   ]
  },
  {
   "cell_type": "code",
   "execution_count": null,
   "id": "3a467482-ba19-4d18-ac3b-b63ba4871742",
   "metadata": {},
   "outputs": [],
   "source": [
    "def F_prime(f, c, d=10**-8):\n",
    "    return (f(c+d)-f(c-d))/(2*d)\n",
    "def L_A(f, L, ):\n",
    "    def L(x):\n",
    "        return f(c) + f_prime_c* (x-c)\n",
    "    return L\n",
    "\n",
    "def find_x(f, l, c, E, o=10"
   ]
  },
  {
   "cell_type": "code",
   "execution_count": null,
   "id": "e014b5d0-c040-48e4-a9b7-f9e60ce88f38",
   "metadata": {},
   "outputs": [],
   "source": [
    "def F_derivative(f, c, d=10**-8):\n",
    "    return (f(c+d)-f(c-d))/(2*d) #this is the equation :) \n",
    "def L_approx(f, c, f_derivative_c):\n",
    "    def L(x):\n",
    "        return f(c) + f_derivative_c *(x-c) #Linearization WHATTTTT\n",
    "    return L\n",
    "def findx(f, L, c, E, p=10**-5):\n",
    "    x1, x2 = None, None \n",
    "    x_r, x_s= c-p, c + p \n",
    "#while i do kritik i want to cry\n",
    "    while x1 is None or x2 is None:\n",
    "        if x1 is None and abs(f(x_r)-L(x_r)) >= E:\n",
    "            x1= x_r\n",
    "        if x2 is None and abs(f(x_p)-L(x_p)) >=E:\n",
    "            x2 = x_p\n",
    "    return x1, x2\n",
    "\n",
    "def AH(f, c, E): #def that way b/c i feel that way\n",
    "    f_derivative_c= F_derivative(f, c)\n",
    "    L=L_approx(f, c, f_derivative_c)\n",
    "    return findx(f, L, c, E)\n",
    "def h(x):\n",
    "    return x**2\n",
    "\n",
    "c=1\n",
    "E= 0.1\n",
    "\n",
    "x1, x2= AH(h, c, E)\n",
    "#im screaming internally\n",
    "print (x1, x2) "
   ]
  },
  {
   "cell_type": "code",
   "execution_count": null,
   "id": "296f42bf-6dda-4feb-a694-06e4511eece4",
   "metadata": {},
   "outputs": [],
   "source": []
  }
 ],
 "metadata": {
  "kernelspec": {
   "display_name": "Python 3 (ipykernel)",
   "language": "python",
   "name": "python3"
  },
  "language_info": {
   "codemirror_mode": {
    "name": "ipython",
    "version": 3
   },
   "file_extension": ".py",
   "mimetype": "text/x-python",
   "name": "python",
   "nbconvert_exporter": "python",
   "pygments_lexer": "ipython3",
   "version": "3.11.9"
  }
 },
 "nbformat": 4,
 "nbformat_minor": 5
}
